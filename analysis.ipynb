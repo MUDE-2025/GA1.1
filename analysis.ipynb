{
 "cells": [
  {
   "cell_type": "markdown",
   "metadata": {},
   "source": [
    "# Model comparison"
   ]
  },
  {
   "cell_type": "markdown",
   "metadata": {},
   "source": [
    "## Part 1: Data and Models"
   ]
  },
  {
   "cell_type": "markdown",
   "metadata": {},
   "source": [
    "### Introduction\n",
    "\n",
    "<p>\n",
    "The Nenana Ice Classic is an annual guessing game and fundraiser held in Nenana, Alaska.\n",
    "Each year you can bet on the day and time the river ice in the Tanana River will break apart along the waterfront of Nenana. \n",
    "\n",
    "A tripod is constructed on the ice during the first weekend in March. This tripod is connected to a clock via a pulley system on the shore. When the ice starts moving and the tripod drifts 100 feet downriver, the line tightens and triggers the clock to stop, marking the official break-up time. The record earliest break-up was in 2019 (April 14). The latest was in 1964 (May 20).\n",
    "\n",
    "You can buy a ticket for $3 and place a bet between Feb 1 and April 5. Our goal is to create a model to predict the ice break-up and WIN!!!\n",
    "\n",
    "Visit the [website](https://www.nenanaakiceclassic.com/) for more information, or to view a live webcam of the river. \n",
    "In addition to the official website, you can read more about the competition here:\n",
    "- [Blogpost from a local](https://rivahman.blogspot.com/2010/04/nenana-ice-classic.html)\n",
    "- [More on the clock mechanism](https://www.adn.com/opinions/2017/05/01/this-antique-engineering-marvel-records-spring-breakup-in-alaska-like-clockwork/)\n",
    "<p/>\n",
    "\n",
    "![Tripod](https://upload.wikimedia.org/wikipedia/commons/thumb/c/c2/Tanana_River_in_Nenana.jpg/960px-Tanana_River_in_Nenana.jpg)\n",
    "\n",
    "> Image from Frank K., CC BY 2.0 licensed. https://commons.wikimedia.org/wiki/File:Tanana_River_in_Nenana.jpg\n"
   ]
  },
  {
   "cell_type": "markdown",
   "metadata": {},
   "source": [
    "### System Components\n",
    "The setup of the tripod and clock directly determines the definition of ice break-up: a rope is attached from the tripod to a clock on the riverbank. When the rope is pulled tight it stops the clock. This time is used to determine the winning guess of the breakup day and time (down to the minute). A diagram of the setup is shown below.\n",
    "\n",
    "![setup](https://files.mude.citg.tudelft.nl/setup.png)\n",
    "\n",
    "*Diagram by Robert Lanzafame*\n",
    "\n",
    "### Available data and scale\n",
    "When building a model to predict the breakup time, it is essential to consider the scale of the data available. As a general rule, larger scale data shows overall trends but may be too generic; smaller-scale data has more variation as the data is not smoothed by averaged effects.\n",
    "\n",
    "The **local scale** concerns itself with the data collected in Nenana itself or immediately around the Tanana River at the town. It's the most fine-grained and directly related to the tripod and ice. Examples include the local river discharge and ice thickness (although this is extremely difficult to measure).\n",
    "\n",
    "Next, the **watershed scale** includes data pertaining to the Tanana River watershed, including upstream areas that feed into the Tanana. This includes regions like the Alaska Range, tributaries (including Nenana!), and snowfields. An example is the annual snowpack and precipitation rates in the Alaska Range.\n",
    "\n",
    "The **regional data** covers a larger area than local or watershed scale — for example, Interior Alaska or the entire state. It captures trends affecting multiple towns, rivers, and ecosystems. We can, for instance, look at the sun hours of the region to estimate the amount of solar radiation. \n",
    "\n",
    "The **global scale** refers to planet-wide systems that can affect Alaska indirectly, including the little town of Nenana. Average global temperatures is perhaps the most well known measure for this. And we have indeed seen a direct correlation between the average global temperature and ice breakup date!\n",
    "\n",
    "Below is a table showing some examples of data at the scales discussed.\n",
    "\n",
    "![data](https://files.mude.citg.tudelft.nl/data.png \"data\")\n",
    "\n",
    "Data Sources: [USGC data](https://waterdata.usgs.gov/nwis/dvstat), [NOAA data](https://www.ncdc.noaa.gov), [CRU data](http://www.cru.uea.ac.uk/data/), [BerkeleyEarth](https://berkeleyearth.org/data/)\n",
    "\n",
    "When building a model, you should consider using different scales. Long-term global and regional trends give you the “big picture.” While the watershed and local scale tells you how much gives you information that is more precisely related to the ice breakage."
   ]
  },
  {
   "cell_type": "markdown",
   "metadata": {},
   "source": [
    "<p>\n",
    "\n",
    "### Example Models\n",
    "These models have been arranged in order of large to small scale and can be considered as one of many tools that could be used to inform your prediction for break-up day and time in the Nenana Ice Classic. Each model may have more than one \"sub-model\" that you can consider.\n",
    "\n",
    "<table>\n",
    "    <tr>\n",
    "        <td>Model 1</td>\n",
    "        <td>From a global climate model considering ENSO (sea-surface temperatures in the South Pacific Ocean) and Alaska temperatures (a) determine the heat exchange of the system which leads to (b) precipitation (c) river discharge and (d) ice melting rate.</td>\n",
    "    </tr>\n",
    "    <tr>\n",
    "        <td>Model 2</td>\n",
    "        <td>Consider the heat of the sun, cloud coverage and the snow/ice cover at a regional scale (whole Alaska for instance) to (a) determine the heat absorption of the ground and/or snow/ice. Then (b) determine the rate of ice melting in the river from the river temperature and discharge due to snowmelt and rainfall.</td>\n",
    "    </tr>\n",
    "    <tr>\n",
    "        <td>Model 3</td>\n",
    "        <td>Consider river water discharge and river water temperature (a) to determine ice melting rate in the river within 1 km upstream of Nenana, which is used to (b) predict deformation and movement of ice downstream and (c) the tension in the rope until it reaches a point that the clock is stopped.</td>\n",
    "    </tr>\n",
    "    <tr>\n",
    "        <td>Model 4</td>\n",
    "        <td>Given a velocity of ice moving downstream (slowly) as it melts and deforms (as a plastic continuum), (b) calculate the rope tension as in model 3 above. The velocity is derived from (a) past measurements that are represented with a probability distribution.</td>\n",
    "    </tr>\n",
    "</table>\n",
    "\n",
    "<p/>"
   ]
  },
  {
   "cell_type": "markdown",
   "metadata": {},
   "source": [
    "<div style=\"background-color:#AABAB2; color: black; width:90%; vertical-align: middle; padding:15px; margin: 10px; border-radius: 10px\">\n",
    "<p>\n",
    "\n",
    "$\\text{Task 1.1:}$\n",
    "    \n",
    "Answer the questions in the report under **Part 1** with reference to the example models. You don't need to make changes to the notebook for this task\n",
    "    \n",
    "</p>\n",
    "</div>"
   ]
  },
  {
   "cell_type": "markdown",
   "metadata": {},
   "source": [
    "## Part 2: Model vs Model\n",
    "In this part of the assignment we will fit two models to historic ice break-up dates and reflect on their performance.\n",
    "\n",
    "### Exploring the data\n",
    "\n",
    "The data we are working with represents the number of days since the new year that it took for the ice in a river to break apart. The current record goes from 1917 to 2025, which is in total 109 years of measurements. The data in this notebook has been pre-prepared for you to be in the correct format, the original data can be downloaded [here](https://daacdata.apps.nsidc.org/pub/DATASETS/nsidc0064_nenana_ice_classic_v2/).\n",
    "\n",
    "Before starting, run the cell below to import the required packages."
   ]
  },
  {
   "cell_type": "code",
   "execution_count": null,
   "metadata": {},
   "outputs": [],
   "source": [
    "import numpy as np\n",
    "import matplotlib.pyplot as plt\n",
    "import scipy.stats as sci\n",
    "import scipy.optimize as opt"
   ]
  },
  {
   "cell_type": "markdown",
   "metadata": {},
   "source": [
    "<div style=\"background-color:#AABAB2; color: black; width:90%; vertical-align: middle; padding:15px; margin: 10px; border-radius: 10px\">\n",
    "<p>\n",
    "\n",
    "$\\text{Task 2.1:}$\n",
    "Import the data by running the cell below. To get more used to reading code, try to explain to each other what is happening in the code. \n",
    "    \n",
    "</p>\n",
    "</div>"
   ]
  },
  {
   "cell_type": "code",
   "execution_count": null,
   "metadata": {},
   "outputs": [],
   "source": [
    "# load data\n",
    "import os\n",
    "from urllib.request import urlretrieve\n",
    "\n",
    "def findfile(fname):\n",
    "    if not os.path.isfile(fname):\n",
    "        print(f\"Downloading {fname}...\")\n",
    "        urlretrieve('http://files.mude.citg.tudelft.nl/'+fname, fname)\n",
    "\n",
    "findfile('days.csv')\n",
    "\n",
    "data = np.loadtxt('days.csv', delimiter=';', skiprows=1)\n",
    "print(data[0:10])\n",
    "\n",
    "# More information about the data\n",
    "shape_of_data = np.shape(data)\n",
    "print('Shape of data:',shape_of_data)\n",
    "\n",
    "mean = np.mean(data[:,1])\n",
    "std = np.std(data[:,1])\n",
    "print(f'Mean: {mean:.3f}\\n\\\n",
    "Standard deviation: {std:.3f}')"
   ]
  },
  {
   "cell_type": "markdown",
   "metadata": {},
   "source": [
    "<div style=\"background-color:#AABAB2; color: black; width:90%; vertical-align: middle; padding:15px; margin: 10px; border-radius: 10px\">\n",
    "<p>\n",
    "\n",
    "$\\text{Task 2.2:}$\n",
    "\n",
    "Plot the data in a scatterplot using the code below. To get more used to reading code, try to explain to each other what is happening in the code. \n",
    "\n",
    "Take note of any interesting trends you might see.\n",
    "    \n",
    "</p>\n",
    "</div>"
   ]
  },
  {
   "cell_type": "code",
   "execution_count": null,
   "metadata": {},
   "outputs": [],
   "source": [
    "# Plot the data\n",
    "plt.scatter(data[:, 0], data[:, 1], label='Measured data')\n",
    "plt.xlabel('Year [-]')\n",
    "plt.ylabel('Number of days/year [-]')\n",
    "plt.title(f'Number of days per year between {data[0,0]:.0f}-{data[-1,0]:.0f}')\n",
    "plt.grid()"
   ]
  },
  {
   "cell_type": "markdown",
   "metadata": {},
   "source": [
    "### Model 1\n",
    "Once we have had a look at the data and know some basic information about it, we are going to create a simple model to predict the day of ice breakup. \n",
    "In our first model, we will assume a linear relationship between the variables. Thus, we will fit a **linear model** using linear regression. \n",
    "\n",
    "The form of the linear regression model is: \n",
    "\n",
    "$days=m⋅years+q$\n",
    "\n",
    "Where $m$ represents the slope of the line, and $q$ is the intercept. \n",
    "\n",
    "You may recall from your earlier studies that the process of regression involves minimising the difference between your data points and your predicted line. In the case of linear regression this is the coefficient of determination $(R^2)$, which you can read more about in the book and is a goodness of fit metric.\n",
    "\n",
    "For this, we will use the `linregress` function from the `scipy.stats` library. Note that this has been imported earlier in this notebook."
   ]
  },
  {
   "cell_type": "markdown",
   "metadata": {},
   "source": [
    "<div style=\"background-color:#AABAB2; color: black; width:90%; vertical-align: middle; padding:15px; margin: 10px; border-radius: 10px\">\n",
    "<p>\n",
    "\n",
    "$\\text{Task 2.3:}$\n",
    "\n",
    "Run the regression using the code below. To get more used to reading code, try to explain to each other what is happening in the code.\n",
    "</p>\n",
    "</div>"
   ]
  },
  {
   "cell_type": "code",
   "execution_count": null,
   "metadata": {},
   "outputs": [],
   "source": [
    "# regression\n",
    "regression = sci.linregress(data[:,0], data[:,1])\n",
    "\n",
    "r_sq = regression.rvalue**2\n",
    "q = regression.intercept \n",
    "m = regression.slope \n",
    "\n",
    "print(f'Coefficient of determination R^2 = {r_sq:.3f}')\n",
    "print(f'Intercept q = {q:.3f} \\nSlope m = {m:.3f}')\n"
   ]
  },
  {
   "cell_type": "markdown",
   "metadata": {},
   "source": [
    "Another way to check the goodness of fit is to see how well the predicted values fit the actual values. We can plot these against each other.\n",
    "\n",
    "The code below plots the results. "
   ]
  },
  {
   "cell_type": "code",
   "execution_count": null,
   "metadata": {},
   "outputs": [],
   "source": [
    "# this code calculates the line we plot for the regression\n",
    "def calculate_line(x, m, q):\n",
    "    y = m * x + q\n",
    "    return y\n",
    "\n",
    "line = calculate_line(data[:,0], m, q)\n",
    "\n",
    "fig, axes = plt.subplots(1, 2,figsize = (12, 4))\n",
    "\n",
    "# this code plots the data with the fitted line\n",
    "axes[0].scatter(data[:,0], data[:,1], label = 'Observations')\n",
    "axes[0].plot(data[:,0], line, color='r', label='Fitted line')\n",
    "axes[0].set_ylabel('Number of days/year [-]')\n",
    "axes[0].set_xlabel('Year [-]')\n",
    "axes[0].grid()\n",
    "axes[0].legend()\n",
    "axes[0].set_title('(a) Number of days as function of the year')\n",
    "\n",
    "# this code plots the values of the regression model against the actual values.\n",
    "axes[1].plot([105, 145],[105, 145], color = 'k')\n",
    "axes[1].set_xlim([105, 145])\n",
    "axes[1].set_ylim([105, 145])\n",
    "axes[1].set_ylabel('Predicted number of days/year [-]')\n",
    "axes[1].set_xlabel('Observed number of days/year [-]')\n",
    "axes[1].grid()\n",
    "axes[1].set_title('(b) Observed and predicted number of days');axes[1].scatter(data[:,1], line)\n"
   ]
  },
  {
   "cell_type": "markdown",
   "metadata": {},
   "source": [
    "One way of assessing the uncertainty around the predictions of a model are confidence intervals. These give us insight into the precision of the predictions by transforming them into probabilities. The 95% confidence interval shows the range of values within which observation would be with a probability of 95% (a significance value of 0.05). You will learn more about confidence intervals later in the course. \n",
    "\n",
    "**Note:**\n",
    "**The confidence intervals as computed here are based on a simplification. Later in the course, you will see how to compute the confidence intervals correctly. For now, they are just a means for discussion**\n"
   ]
  },
  {
   "cell_type": "code",
   "execution_count": null,
   "metadata": {},
   "outputs": [],
   "source": [
    "# calculate the lines of the intervals\n",
    "sd_error = (data[:,1] - line).std()\n",
    "k = sci.norm.ppf(1-0.05/2) * sd_error\n",
    "\n",
    "ci_low = line - k\n",
    "ci_up = line + k\n",
    "\n",
    "# plot\n",
    "plt.scatter(data[:,0], data[:,1], label = 'Observations')\n",
    "plt.plot(data[:,0], line, color='r', label='Fitted line')\n",
    "plt.plot(data[:,0], ci_low, '--k')\n",
    "plt.plot(data[:,0], ci_up, '--k')\n",
    "plt.ylabel('Number of days/year [-]')\n",
    "plt.xlabel('Year [-]')\n",
    "plt.grid()\n",
    "plt.legend()\n",
    "plt.title('Number of days as function of the year');"
   ]
  },
  {
   "cell_type": "markdown",
   "metadata": {},
   "source": [
    "### Model 2"
   ]
  },
  {
   "cell_type": "markdown",
   "metadata": {},
   "source": [
    "As you may have seen, the linear model does not describe the data very well. Let's try with one which is slightly more complicated: a non-linear model!\n",
    "\n",
    "In this section, we will analyze the fitting of a quadratic model. This model is given as \n",
    "\n",
    "$days=A*year^2+B*year+C$\n",
    "\n",
    "Where $A$ and $B$ are polynomial coefficients.\n",
    "\n",
    "You do not need to worry about the implementation of code for this right now. We will again make use of the `scipy.optimize` library, which contains the `curve_fit` function."
   ]
  },
  {
   "cell_type": "markdown",
   "metadata": {},
   "source": [
    "<div style=\"background-color:#AABAB2; color: black; width:90%; vertical-align: middle; padding:15px; margin: 10px; border-radius: 10px\">\n",
    "<p>\n",
    "\n",
    "$\\text{Task 2.4:}$\n",
    "\n",
    "Run the model fitting using the code below. Then, plot the results using the next cell of code. \n",
    "</p>\n",
    "</div>"
   ]
  },
  {
   "cell_type": "code",
   "execution_count": null,
   "metadata": {},
   "outputs": [],
   "source": [
    "# fitting the quadratic model\n",
    "\n",
    "def parabola(x, a, b, c):\n",
    "    y = a * x**2 + b * x + c\n",
    "    return y\n",
    "\n",
    "popt_parabola, pcov_parabola = opt.curve_fit(parabola, data[:,0], data[:,1])\n",
    "\n",
    "fitted_parabola = parabola(data[:,0], *popt_parabola)\n",
    "\n",
    "print(f'Optimal estimation for parameters:\\n\\\n",
    "a = {popt_parabola[0]:.3e}, b = {popt_parabola[1]:.3f}, c = {popt_parabola[2]:.3f}\\n')\n",
    "\n",
    "print(f'Covariance matrix for parameters:\\n\\\n",
    "Sigma = {pcov_parabola}')\n"
   ]
  },
  {
   "cell_type": "code",
   "execution_count": null,
   "metadata": {},
   "outputs": [],
   "source": [
    "# calculate confidence intervals 95%\n",
    "sd_error = (data[:,1] - fitted_parabola).std()\n",
    "k = sci.norm.ppf(1-0.05/2) * sd_error\n",
    "\n",
    "ci_low_2 = fitted_parabola - k\n",
    "ci_up_2 = fitted_parabola + k\n",
    "\n",
    "fig, axes = plt.subplots(1, 2,figsize = (12, 4))\n",
    "\n",
    "#plot\n",
    "axes[0].scatter(data[:,0], data[:,1], label = 'Observations')\n",
    "axes[0].plot(data[:,0], fitted_parabola, color='r', label='Fitted line')\n",
    "axes[0].plot(data[:,0], ci_low_2, '--k')\n",
    "axes[0].plot(data[:,0], ci_up_2, '--k')\n",
    "axes[0].set_ylabel('Number of days/year [-]')\n",
    "axes[0].set_xlabel('Year [-]')\n",
    "axes[0].grid()\n",
    "axes[0].legend()\n",
    "axes[0].set_title('Number of days as function of the year')\n",
    "\n",
    "# this code plots the values of the regression model against the actual values.\n",
    "axes[1].plot([105, 145],[105, 145], color = 'k')\n",
    "axes[1].set_xlim([105, 145])\n",
    "axes[1].set_ylim([105, 145])\n",
    "axes[1].set_ylabel('Predicted number of days/year [-]')\n",
    "axes[1].set_xlabel('Observed number of days/year [-]')\n",
    "axes[1].grid()\n",
    "axes[1].set_title('(b) Observed and predicted number of days');axes[1].scatter(data[:,1], fitted_parabola)"
   ]
  },
  {
   "cell_type": "markdown",
   "metadata": {},
   "source": [
    "<div style=\"background-color:#AABAB2; color: black; width:90%; vertical-align: middle; padding:15px; margin: 10px; border-radius: 10px\">\n",
    "<p>\n",
    "\n",
    "$\\text{Task 2.5:}$\n",
    "    \n",
    "After running the two models above, answer **Part 2** of the report.\n",
    "    \n",
    "</p>\n",
    "</div>"
   ]
  },
  {
   "cell_type": "markdown",
   "metadata": {},
   "source": [
    "## Part 3: More Models"
   ]
  },
  {
   "cell_type": "markdown",
   "metadata": {},
   "source": [
    "In this part we look at more approaches to modelling the ice breakage day. \n",
    "We have included several different approaches to modelling sea ice, with varying degrees of scale and complexity.\n",
    "As you will see, there are a multitude of ways to model this one seemingly specific event. All of the models have their own merits and limitations. None of the models are 'wrong' or 'right', it depends on how you choose to approach the problem and what aspects of ice breakage you want to look at. \n",
    "\n",
    "Below we give a short introduction to various approaches to modelling. Sources for further reading are linked. As the introductions are very superficial, we encourage you to follow the provided links to look through the source materials! \n",
    "\n",
    "\n"
   ]
  },
  {
   "cell_type": "markdown",
   "metadata": {},
   "source": [
    "<div style=\"background-color:#AABAB2; color: black; width:90%; vertical-align: middle; padding:15px; margin: 10px; border-radius: 10px\">\n",
    "<p>\n",
    "\n",
    "$\\text{Task 3.1:}$\n",
    "    \n",
    "Consider the information given and linked below, answer **Part 3** of the report. You may want to split the readings between your group members and come together to discuss. \n",
    "    \n",
    "</p>\n",
    "</div>"
   ]
  },
  {
   "cell_type": "markdown",
   "metadata": {},
   "source": [
    "### Ice Thickness\n",
    "To model the ice growth, you could to use the classical [Stefan's Problem](https://files.mude.citg.tudelft.nl/Stefan's_Problem.pdf), which aims to determine how an ice layer grows as a function of time.\n",
    "\n",
    "### Breakage Mechanisms\n",
    "Another approach is to determine what breakage mechanism the ice might undergo. For instance [Beltaos(2003)](https://files.mude.citg.tudelft.nl/Beltaos_2003.pdf) shows in which conditions ice might break mechanically, if the river rises rapidly, or thermally, if it does not. [Beltaos(1984)](https://files.mude.citg.tudelft.nl/Beltaos_1984.pdf) introduces a conceptual model of ice breakup focusing on the transverse breakup of ice.\n",
    "\n",
    "### Predictions Using Machine Learning\n",
    "The following Bachelor theses presents some approaches to modelling the ice breakage date using historical data. \n",
    "\n",
    "In [De Wit(2022)](https://files.mude.citg.tudelft.nl/DeWit_2022.pdf) various data pertaining to climate data and ice breakage dates are used to train a simple neural network to create a forecasting model. [Terwogt(2021)](https://files.mude.citg.tudelft.nl/Terwogt_2021.pdf) implemented a random forest model to formulate the relationship and [van Asselt(2020)](https://files.mude.citg.tudelft.nl/vaAsselt_2020.pdf) formulated a multilinear regression model to find the relationship between breakage date and environmental variables. \n"
   ]
  },
  {
   "cell_type": "markdown",
   "metadata": {},
   "source": [
    "> By Jialei Ding and Robert Lanzafame, Delft University of Technology. CC BY 4.0, more info [on the Credits page of Workbook](https://mude.citg.tudelft.nl/workbook-2025/credits.html)."
   ]
  }
 ],
 "metadata": {
  "kernelspec": {
   "display_name": "base",
   "language": "python",
   "name": "python3"
  },
  "language_info": {
   "codemirror_mode": {
    "name": "ipython",
    "version": 3
   },
   "file_extension": ".py",
   "mimetype": "text/x-python",
   "name": "python",
   "nbconvert_exporter": "python",
   "pygments_lexer": "ipython3",
   "version": "3.12.11"
  }
 },
 "nbformat": 4,
 "nbformat_minor": 2
}
