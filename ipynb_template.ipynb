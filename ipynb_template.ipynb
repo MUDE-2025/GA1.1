{
 "cells": [
  {
   "cell_type": "markdown",
   "metadata": {},
   "source": [
    "# Group assignment Q1 week 1: Breaking the Ice\n",
    "\n",
    "*[CEGM1000 MUDE](http://mude.citg.tudelft.nl/)*\n",
    "\n",
    "*Written by: Jialei Ding, based on work by Robert Lanzafame*\n",
    "\n",
    "*Due: Friday September 5th, 2025.*"
   ]
  },
  {
   "cell_type": "markdown",
   "metadata": {},
   "source": [
    "## Part 1: Data and Models"
   ]
  },
  {
   "cell_type": "markdown",
   "metadata": {},
   "source": [
    "### Introduction\n",
    "\n",
    "<p>\n",
    "The Nenana Ice Classic is an annual guessing game and fundraiser held in Nenana, Alaska.\n",
    "Each year you can bet on the day and time the river ice in the Tanana River will break apart along the waterfront of the town Nenana. (the town is called Nenana because it is located just upstream from the confluence of this tributary with the Tanana River). Below you can see its position, with a Netherlands for scale!\n",
    "<br />\n",
    "<br />\n",
    "\n",
    "<img src=\"images\\nenana_map.png\" width=\"600\"/>\n",
    "\n",
    "<br />\n",
    "<br />\n",
    "A tripod is constructed on the ice during the first weekend in March. This tripod is connected to a clock via a pulley system on the shore. When the ice starts moving and the tripod drifts 100 feet downriver, the line tightens and triggers the clock to stop, marking the official break-up time. The record earliest break-up was in 2019 (April 14). The latest was in 1964 (May 20).\n",
    "\n",
    "You can buy a ticket for $3 and place a bet between Feb 1 and April 5. Our goal is to create a model to predict the ice break-up and WIN!!!\n",
    "\n",
    "Visit the [website](nenanaakiceclassic.com) for more information, or to view a live webcam of the river. \n",
    "In addition to the official website, you can read more about the competition here:\n",
    "- [Blogpost from a local](https://rivahman.blogspot.com/2010/04/nenana-ice-classic.html)\n",
    "- [More on the clock mechanism](https://www.adn.com/opinions/2017/05/01/this-antique-engineering-marvel-records-spring-breakup-in-alaska-like-clockwork/)\n",
    "\n",
    "<img src=\"images\\tripod.png\" width=\"600\"/>\n",
    "\n",
    "[image source](https://www.google.com/url?sa=i&url=https%3A%2F%2Fen.wikipedia.org%2Fwiki%2FNenana_Ice_Classic&psig=AOvVaw3tnHXKo9OPR3-LQdijw42w&ust=1694170505343000&source=images&cd=vfe&opi=89978449&ved=0CBAQjRxqFwoTCICe9omrmIEDFQAAAAAdAAAAABAE)\n",
    "<p/>"
   ]
  },
  {
   "cell_type": "markdown",
   "metadata": {},
   "source": [
    "### System Components\n",
    "The setup of the tripod and clock directly determines the definition of ice break-up: a rope is attached from the tripod to a clock on the riverbank. When the rope is pulled tight it stops the clock; this time is used to determine the winning guess of the breakup day and time (down to the minute). As such, these components could be interesting to include in a model. A diagram of the setup is shown below.\n",
    "\n",
    "![setup](images/setup.png)\n",
    "\n",
    "*Diagram by Robert Lanzafame*\n",
    "\n",
    "### Available data and scale\n",
    "When building a model to predict the breakup time, it is essential to consider the scale of the data available. As a general rule, larger scale data shows overall trends but may be too generic while smaller-scale data has more variation as the data is not smoothed by averaged effects.\n",
    "\n",
    "The **local scale** concerns itself with the data collected in Nenana itself or immediately around the Tanana River at the town. It's the most fine-grained and directly related to the tripod and ice. Examples include the local river discharge and ice thickness (although this is extremely difficult to measure).\n",
    "\n",
    "Next, the **watershed scale** includes data pertaining to the Tanana River watershed, including upstream areas that feed into the Tanana. This includes regions like the Alaska Range, tributaries (including Nenana!), and snowfields. An example is the annual snowpack and precipitation rates in the Alaska Range.\n",
    "\n",
    "The **regional data** covers a larger area than local or watershed scale — for example, Interior Alaska or the entire state. It captures trends affecting multiple towns, rivers, and ecosystems. We can, for instance, look at the sun hours of the region to estimate the amount of solar radiation. \n",
    "\n",
    "The **global scale** refers to planet-wide systems that can affect Alaska indirectly, including the little town of Nenana. Average global temperatures is perhaps the most well known measure for this. And we have indeed seen a direct correlation between the average global temperature and ice breakup date!\n",
    "\n",
    "Below is a table showing some examples of data at the scales discussed.\n",
    "\n",
    "![data](images/data.png \"data\")\n",
    "\n",
    "Data Sources: [USGC data](https://waterdata.usgs.gov/nwis/dvstat), [NOAA data](https://www.ncdc.noaa.gov), [CRU data](http://www.cru.uea.ac.uk/data/), [BerkeleyEarth](https://berkeleyearth.org/data/)\n",
    "\n",
    "When building a model, you should consider using different scales. Long-term global and regional trends give you the “big picture.” While the watershed and local scale tells you how much gives you information that is more precisely related to the ice breakage."
   ]
  },
  {
   "cell_type": "markdown",
   "metadata": {},
   "source": [
    "### Example Models\n",
    "These models have been arranged in order of large to small scale and can be considered as one of many tools that could be used to inform your prediction for break-up day and time in the Nenana Ice Classic. Each model may have more than one \"sub-model\" that you can consider.\n",
    "\n",
    "#### Model 1:\n",
    "From a global climate model considering ENSO (sea-surface temperatures in the South Pacific Ocean) and Alaska temperatures (a) determine the heat exchange of the system which leads to (b) precipitation (c) river discharge and (d) ice melting rate.\n",
    "\n",
    "#### Model 2:\n",
    "Consider the heat of the sun, cloud coverage and the snow/ice cover at a regional scale (whole Alaska for instance) to (a) determine the heat absorption of the ground and/or snow/ice. Then (b) determine the rate of ice melting in the river from the river temperature and discharge due to snowmelt and rainfall.\n",
    "\n",
    "#### Model 3:\n",
    "Consider river water discharge and river water temperature (a) to determine ice melting rate in the river within 1 km upstream of Nenana, which is used to (b) predict deformation and movement of ice downstream and (c) the tension in the rope until it reaches a point that the clock is stopped.\n",
    "\n",
    "#### Model 4:\n",
    "Given a velocity of ice moving downstream (slowly) as it melts and deforms (as a plastic continuum), (b) calculate the rope tension as in model 3 above. The velocity is derived from (a) past measurements that are represented with a probability distribution."
   ]
  },
  {
   "cell_type": "markdown",
   "metadata": {},
   "source": [
    "<div style=\"background-color:#AABAB2; color: black; width:90%; vertical-align: middle; padding:15px; margin: 10px; border-radius: 10px\">\n",
    "<p>\n",
    "\n",
    "$\\text{Task 1:}$\n",
    "    \n",
    "Answer the questions in the report under Part 1. You don't need to make changes to the notebook for this task\n",
    "    \n",
    "</p>\n",
    "</div>"
   ]
  },
  {
   "cell_type": "markdown",
   "metadata": {},
   "source": [
    "## Part 2"
   ]
  },
  {
   "cell_type": "markdown",
   "metadata": {},
   "source": [
    "<div style=\"background-color:#AABAB2; color: black; width:90%; vertical-align: middle; padding:15px; margin: 10px; border-radius: 10px\">\n",
    "<p>\n",
    "\n",
    "$\\text{Task 2:}$\n",
    "    \n",
    "Read through the provided content below and answer Part 1 of the questions in the report.\n",
    "    \n",
    "</p>\n",
    "</div>"
   ]
  },
  {
   "cell_type": "code",
   "execution_count": null,
   "metadata": {},
   "outputs": [],
   "source": [
    "# Provided code which is not to be edited by students\n",
    "import numpy as np"
   ]
  },
  {
   "cell_type": "code",
   "execution_count": null,
   "metadata": {
    "tags": [
     "assignment"
    ]
   },
   "outputs": [],
   "source": [
    "# The code given to students can be indicated with:\n",
    "# with a cell tag `assignment`.\n",
    "# These cells will be removed from the solution notebook.\n",
    "# The assignment notebook will be generated after a push to main and\n",
    "# will be stored on the branch `assignment`.\n",
    "# Places where student should write their code are marked with `### YOUR CODE HERE ###` for filling in a single line\n",
    "# or with `### YOUR CODE LINES HERE` for filling in multiple lines\n",
    "\n",
    "import numpy as np\n",
    "\n",
    "a = [### YOUR CODE HERE ###]\n",
    "    \n",
    "### YOUR CODE LINES HERE\n",
    "\n",
    "print('First 20 fibonacci numbers:', ### YOUR CODE HERE ###)"
   ]
  },
  {
   "cell_type": "markdown",
   "metadata": {},
   "source": [
    "<div style=\"background-color:#FAE99E; color: black; vertical-align: middle; padding:15px; margin: 10px; border-radius: 10px; width: 90%\">\n",
    "\n",
    "$\\text{Solution x.x:}$\n",
    "\n",
    "Having trouble understanding how the Gauss-Newton scheme works? Do you want to visualize how the parameters and model change on each iteration? Try uncommenting the cell below to create an interactive plot!\n",
    "\n",
    "It is set up to visualize the model on each iteration. You can gain insight into the way convergence occurs by changing the value of <code>initial_guess_alternative</code> and rerunning the cell.\n",
    "</p></div>\n",
    "\n",
    "Cells containing a solution block (with color ` #FAE99E`) will be removed in the assignment notebook."
   ]
  },
  {
   "cell_type": "code",
   "execution_count": null,
   "metadata": {
    "tags": [
     "solution"
    ]
   },
   "outputs": [],
   "source": [
    "# Solution code (in a separate cell) is indicated with\n",
    "# a cell tag 'solution'.\n",
    "# These cells will be removed from the assignment notebook.\n",
    "# The assignment notebook will be generated after a push to main and\n",
    "# will be stored on the branch `solution`.\n",
    "\n",
    "a = [0,2]\n",
    "\n",
    "for i in range(2, 20):\n",
    "    a.append(a[i-1] + a[i-2])\n",
    "\n",
    "print('First 20 fibonacci numbers:', a)"
   ]
  },
  {
   "cell_type": "markdown",
   "metadata": {},
   "source": [
    "<div style=\"background-color:#FAE99E; color: black; vertical-align: middle; padding:15px; margin: 10px; border-radius: 10px; width: 90%\">\n",
    "<p>\n",
    "End of solution.\n",
    "</p>\n",
    "</div>\n",
    "\n",
    "Cells containing a solution block (with color ` #FAE99E`) will be removed in the assignment notebook."
   ]
  },
  {
   "cell_type": "markdown",
   "metadata": {},
   "source": [
    "<div style=\"background-color:#facb8e; color: black; vertical-align: middle; padding:15px; margin: 10px; border-radius: 10px; width: 90%\"> <p>\n",
    "\n",
    "$\\text{Tip:}$\n",
    "\n",
    "Don't use the CSS danger/warning blocks because they don't display when converting to HTML with pandoc (won't display right on course files on website).\n",
    "</p></div>"
   ]
  },
  {
   "cell_type": "markdown",
   "metadata": {},
   "source": [
    "## Part `2, ...`"
   ]
  },
  {
   "cell_type": "markdown",
   "metadata": {},
   "source": [
    "<div style=\"margin-top: 50px; padding-top: 20px; border-top: 1px solid #ccc;\">\n",
    "  <div style=\"display: flex; justify-content: flex-end; gap: 20px; align-items: center;\">\n",
    "    <a rel=\"MUDE\" href=\"http://mude.citg.tudelft.nl/\">\n",
    "      <img alt=\"MUDE\" style=\"width:100px; height:auto;\" src=\"https://gitlab.tudelft.nl/mude/public/-/raw/main/mude-logo/MUDE_Logo-small.png\" />\n",
    "    </a>\n",
    "    <a rel=\"TU Delft\" href=\"https://www.tudelft.nl/en/ceg\">\n",
    "      <img alt=\"TU Delft\" style=\"width:100px; height:auto;\" src=\"https://gitlab.tudelft.nl/mude/public/-/raw/main/tu-logo/TU_P1_full-color.png\" />\n",
    "    </a>\n",
    "    <a rel=\"license\" href=\"http://creativecommons.org/licenses/by/4.0/\">\n",
    "      <img alt=\"Creative Commons License\" style=\"width:88px; height:auto;\" src=\"https://i.creativecommons.org/l/by/4.0/88x31.png\" />\n",
    "    </a>\n",
    "  </div>\n",
    "  <div style=\"font-size: 75%; margin-top: 10px; text-align: right;\">\n",
    "    &copy; Copyright 2025 <a rel=\"MUDE\" href=\"http://mude.citg.tudelft.nl/\">MUDE</a> TU Delft. \n",
    "    This work is licensed under a <a rel=\"license\" href=\"http://creativecommons.org/licenses/by/4.0/\">CC BY 4.0 License</a>.\n",
    "  </div>\n",
    "</div>"
   ]
  }
 ],
 "metadata": {
  "kernelspec": {
   "display_name": "base",
   "language": "python",
   "name": "python3"
  },
  "language_info": {
   "codemirror_mode": {
    "name": "ipython",
    "version": 3
   },
   "file_extension": ".py",
   "mimetype": "text/x-python",
   "name": "python",
   "nbconvert_exporter": "python",
   "pygments_lexer": "ipython3",
   "version": "3.9.18"
  }
 },
 "nbformat": 4,
 "nbformat_minor": 2
}
